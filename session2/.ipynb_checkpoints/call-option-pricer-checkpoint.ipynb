{
 "cells": [
  {
   "cell_type": "code",
   "execution_count": 3,
   "id": "635c6ce6-8da7-4c17-9935-d8b8ed3b159d",
   "metadata": {},
   "outputs": [],
   "source": [
    "import math\n",
    "from scipy.stats import norm"
   ]
  },
  {
   "cell_type": "code",
   "execution_count": 9,
   "id": "469164c5-5167-409b-8111-68909b1f5881",
   "metadata": {},
   "outputs": [
    {
     "data": {
      "text/plain": [
       "11.923538474048499"
      ]
     },
     "execution_count": 9,
     "metadata": {},
     "output_type": "execute_result"
    }
   ],
   "source": [
    "S = 100\n",
    "vol = 0.3\n",
    "t = 1\n",
    "K = 100\n",
    "discount_factor = 1\n",
    "\n",
    "F = S/discount_factor\n",
    "d1 = (math.log(F/K) + 1/2 * vol**2 * t)/(vol*math.sqrt(t))\n",
    "d2 = d1 - vol * math.sqrt(t)\n",
    "\n",
    "discount_factor*(F * norm.cdf(d1) - K * norm.cdf(d2))"
   ]
  },
  {
   "cell_type": "code",
   "execution_count": 13,
   "id": "d68b3779-6db2-41bf-bdd9-80fe28eeb6ad",
   "metadata": {},
   "outputs": [
    {
     "data": {
      "text/plain": [
       "11.927330114271577"
      ]
     },
     "execution_count": 13,
     "metadata": {},
     "output_type": "execute_result"
    }
   ],
   "source": [
    "S = 100\n",
    "vol = 0.21\n",
    "t = 2\n",
    "K = 100\n",
    "discount_factor = 1\n",
    "\n",
    "F = S/discount_factor\n",
    "d1 = (math.log(F/K) + 1/2 * vol**2 * t)/(vol*math.sqrt(t))\n",
    "d2 = d1 - vol * math.sqrt(t)\n",
    "\n",
    "discount_factor*(F * norm.cdf(d1) - K * norm.cdf(d2))"
   ]
  },
  {
   "cell_type": "code",
   "execution_count": null,
   "id": "6324d986-2307-4f24-94e8-464cd027ca11",
   "metadata": {},
   "outputs": [],
   "source": []
  }
 ],
 "metadata": {
  "kernelspec": {
   "display_name": "Python 3 (ipykernel)",
   "language": "python",
   "name": "python3"
  },
  "language_info": {
   "codemirror_mode": {
    "name": "ipython",
    "version": 3
   },
   "file_extension": ".py",
   "mimetype": "text/x-python",
   "name": "python",
   "nbconvert_exporter": "python",
   "pygments_lexer": "ipython3",
   "version": "3.12.0"
  }
 },
 "nbformat": 4,
 "nbformat_minor": 5
}
