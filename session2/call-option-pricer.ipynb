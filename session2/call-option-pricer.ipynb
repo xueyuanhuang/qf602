{
 "cells": [
  {
   "cell_type": "code",
   "execution_count": 2,
   "id": "635c6ce6-8da7-4c17-9935-d8b8ed3b159d",
   "metadata": {},
   "outputs": [],
   "source": [
    "import math\n",
    "from scipy.stats import norm"
   ]
  },
  {
   "cell_type": "code",
   "execution_count": 9,
   "id": "469164c5-5167-409b-8111-68909b1f5881",
   "metadata": {},
   "outputs": [
    {
     "data": {
      "text/plain": [
       "11.923538474048499"
      ]
     },
     "execution_count": 9,
     "metadata": {},
     "output_type": "execute_result"
    }
   ],
   "source": [
    "S = 100\n",
    "vol = 0.3\n",
    "t = 1\n",
    "K = 100\n",
    "discount_factor = 1\n",
    "\n",
    "F = S/discount_factor\n",
    "d1 = (math.log(F/K) + 1/2 * vol**2 * t)/(vol*math.sqrt(t))\n",
    "d2 = d1 - vol * math.sqrt(t)\n",
    "\n",
    "discount_factor*(F * norm.cdf(d1) - K * norm.cdf(d2))"
   ]
  },
  {
   "cell_type": "code",
   "execution_count": 6,
   "id": "6973c860-f738-4674-856f-800bf209c195",
   "metadata": {},
   "outputs": [
    {
     "data": {
      "text/plain": [
       "11.246291601828489"
      ]
     },
     "execution_count": 6,
     "metadata": {},
     "output_type": "execute_result"
    }
   ],
   "source": [
    "S = 100\n",
    "vol = 0.2\n",
    "t = 2\n",
    "K = 100\n",
    "discount_factor = 1\n",
    "\n",
    "F = S/discount_factor\n",
    "d1 = (math.log(F/K) + 1/2 * vol**2 * t)/(vol*math.sqrt(t))\n",
    "d2 = d1 - vol * math.sqrt(t)\n",
    "\n",
    "discount_factor*(F * norm.cdf(d1) - K * norm.cdf(d2))"
   ]
  },
  {
   "cell_type": "code",
   "execution_count": 11,
   "id": "6324d986-2307-4f24-94e8-464cd027ca11",
   "metadata": {},
   "outputs": [
    {
     "data": {
      "text/plain": [
       "0.21213203435596242"
      ]
     },
     "execution_count": 11,
     "metadata": {},
     "output_type": "execute_result"
    }
   ],
   "source": [
    "from scipy.stats import norm\n",
    "from math import log, sqrt, exp\n",
    "import scipy.optimize as opt\n",
    "\n",
    "# Define the Black-Scholes equation, rearranged to solve for the price given volatility\n",
    "def black_scholes_call_price(vol, S, K, t, discount_factor, market_price):\n",
    "    F = S / discount_factor\n",
    "    d1 = (log(F / K) + 0.5 * vol ** 2 * t) / (vol * sqrt(t))\n",
    "    d2 = d1 - vol * sqrt(t)\n",
    "    theoretical_price = discount_factor * (F * norm.cdf(d1) - K * norm.cdf(d2))\n",
    "    return market_price - theoretical_price\n",
    "\n",
    "# Given parameters\n",
    "S = 100\n",
    "t = 2\n",
    "K = 100\n",
    "discount_factor = 1\n",
    "market_price = 11.923538474048499\n",
    "\n",
    "# Use the Newton-Raphson method to find the implied volatility\n",
    "implied_vol = opt.newton(black_scholes_call_price, 0.2, args=(S, K, t, discount_factor, market_price))\n",
    "\n",
    "implied_vol"
   ]
  },
  {
   "cell_type": "code",
   "execution_count": null,
   "id": "053381a4-de64-4b37-ab01-400ee5958680",
   "metadata": {},
   "outputs": [],
   "source": []
  }
 ],
 "metadata": {
  "kernelspec": {
   "display_name": "Python 3 (ipykernel)",
   "language": "python",
   "name": "python3"
  },
  "language_info": {
   "codemirror_mode": {
    "name": "ipython",
    "version": 3
   },
   "file_extension": ".py",
   "mimetype": "text/x-python",
   "name": "python",
   "nbconvert_exporter": "python",
   "pygments_lexer": "ipython3",
   "version": "3.12.0"
  }
 },
 "nbformat": 4,
 "nbformat_minor": 5
}
