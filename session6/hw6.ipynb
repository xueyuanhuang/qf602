{
 "cells": [
  {
   "cell_type": "code",
   "execution_count": 10,
   "id": "81fc373b-4ae9-4655-9728-38726410c6e5",
   "metadata": {},
   "outputs": [],
   "source": [
    "import numpy as np\n",
    "import pandas as pd\n",
    "import scipy.integrate as integrate\n",
    "from scipy.stats import norm\n",
    "import matplotlib.pyplot as plt"
   ]
  },
  {
   "cell_type": "code",
   "execution_count": 11,
   "id": "2c336235-6402-41da-ba15-de49ddeadee8",
   "metadata": {},
   "outputs": [],
   "source": [
    "def BlackScholesCall(S_0, K, r, sigma, T):\n",
    "    d1 = (np.log(S_0/K)+(r+sigma**2/2)*T) / (sigma*np.sqrt(T))\n",
    "    d2 = d1 - sigma*np.sqrt(T)\n",
    "    \n",
    "    return S_0*norm.cdf(d1) - K*np.exp(-r*T)*norm.cdf(d2)\n",
    "\n",
    "def BlackScholesPut(S_0, K, r, sigma, T):\n",
    "    d1 = (np.log(S_0/K)+(r+sigma**2/2)*T) / (sigma*np.sqrt(T))\n",
    "    d2 = d1 - sigma*np.sqrt(T)\n",
    "    \n",
    "    return K*np.exp(-r*T)*norm.cdf(-d2) - S_0*norm.cdf(-d1)"
   ]
  },
  {
   "cell_type": "code",
   "execution_count": 16,
   "id": "30449e32-e82f-4dd5-948d-03200054a59b",
   "metadata": {},
   "outputs": [],
   "source": [
    "def ivol(K):\n",
    "    return 0.51 - 0.591*K + 0.376*K**2 - 0.105*K**3 + 0.011*K**4\n",
    "\n",
    "def cal_ivol(K):\n",
    "    if K < 3:\n",
    "        return ivol(K)\n",
    "    else:\n",
    "        return ivol(3)"
   ]
  },
  {
   "cell_type": "code",
   "execution_count": 17,
   "id": "01acd26e-bccd-4332-b847-d7672db46099",
   "metadata": {},
   "outputs": [],
   "source": [
    "def q1(S0, r, q, T, SD):\n",
    "    f = S0*np.exp((r-q)*T)\n",
    "    #ATM implied vol\n",
    "    vol_for_range = cal_ivol(f)\n",
    "    #upper limit of the call integral:SD-number of standard deviation away from mean\n",
    "    maxS = f*np.exp(vol_for_range * SD * np.sqrt(T))\n",
    "\n",
    "    forward_part = np.sqrt(f) * np.exp(-r*T)\n",
    "    \n",
    "    integrated_put = lambda p: p**(-1.5)/4 * BlackScholesPut(S0, p, r, cal_ivol(p), T)\n",
    "    put_part, error = integrate.quad(integrated_put, 1e-4, f)\n",
    "    \n",
    "    integrated_call = lambda c: c**(-1.5)/4 * BlackScholesCall(S0, c, r, cal_ivol(c), T)\n",
    "    call_part, error = integrate.quad(integrated_call, f, maxS)\n",
    "\n",
    "    return forward_part - put_part - call_part"
   ]
  },
  {
   "cell_type": "code",
   "execution_count": 18,
   "id": "82387436-be7f-4588-9076-5bf84b715ba2",
   "metadata": {},
   "outputs": [],
   "source": [
    "def q2(S0, r, q, T, SD):\n",
    "    f = S0*np.exp((r-q)*T)\n",
    "    #ATM implied vol\n",
    "    vol_for_range = cal_ivol(f)\n",
    "    #upper limit of the call integral:SD-number of standard deviation away from mean\n",
    "    maxS = f*np.exp(vol_for_range * SD * np.sqrt(T))\n",
    "\n",
    "    forward_part = f**3 * np.exp(-r*T)\n",
    "    \n",
    "    integrated_put = lambda p: 6*BlackScholesPut(S0, p, r, cal_ivol(p), T)*p\n",
    "    put_part, error = integrate.quad(integrated_put, 1e-4, f)\n",
    "    \n",
    "    integrated_call = lambda c: 6*BlackScholesCall(S0, c, r, cal_ivol(c), T)*c\n",
    "    call_part, error = integrate.quad(integrated_call, f, maxS)\n",
    "\n",
    "    return forward_part + put_part + call_part"
   ]
  },
  {
   "cell_type": "code",
   "execution_count": 19,
   "id": "ec62f89d-5de7-42cc-9916-64d04b6fce2e",
   "metadata": {},
   "outputs": [],
   "source": [
    "S0, r, q, T = 1, 0, 0, 4"
   ]
  },
  {
   "cell_type": "code",
   "execution_count": 22,
   "id": "1e2a1951-7458-475a-b879-69157000143e",
   "metadata": {},
   "outputs": [
    {
     "data": {
      "text/plain": [
       "[0.9744529379057193,\n",
       " 0.9737922020460309,\n",
       " 0.9737631318280784,\n",
       " 0.9737624998879959,\n",
       " 0.9737624966184146,\n",
       " 0.9737624965892451]"
      ]
     },
     "execution_count": 22,
     "metadata": {},
     "output_type": "execute_result"
    }
   ],
   "source": [
    "[q1(S0, r, q, T, SD) for SD in range(1,7)]"
   ]
  },
  {
   "cell_type": "code",
   "execution_count": 23,
   "id": "6581e6e8-144e-47b6-a796-69f4812e7e90",
   "metadata": {},
   "outputs": [
    {
     "data": {
      "text/plain": [
       "[1.4563473950073509,\n",
       " 1.5157020030493475,\n",
       " 1.5226686291504619,\n",
       " 1.5230535930212965,\n",
       " 1.5230590092868386,\n",
       " 1.5230590334482457]"
      ]
     },
     "execution_count": 23,
     "metadata": {},
     "output_type": "execute_result"
    }
   ],
   "source": [
    "[q2(S0, r, q, T, SD) for SD in range(1,7)]"
   ]
  }
 ],
 "metadata": {
  "kernelspec": {
   "display_name": "Python 3 (ipykernel)",
   "language": "python",
   "name": "python3"
  },
  "language_info": {
   "codemirror_mode": {
    "name": "ipython",
    "version": 3
   },
   "file_extension": ".py",
   "mimetype": "text/x-python",
   "name": "python",
   "nbconvert_exporter": "python",
   "pygments_lexer": "ipython3",
   "version": "3.12.0"
  }
 },
 "nbformat": 4,
 "nbformat_minor": 5
}
